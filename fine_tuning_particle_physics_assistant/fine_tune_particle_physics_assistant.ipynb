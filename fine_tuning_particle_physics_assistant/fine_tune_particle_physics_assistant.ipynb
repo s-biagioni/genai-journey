{
 "cells": [
  {
   "cell_type": "code",
   "execution_count": 1,
   "metadata": {},
   "outputs": [],
   "source": [
    "# Fine-tuning: https://platform.openai.com/docs/guides/fine-tuning\n",
    "\n",
    "import json\n",
    "import os\n",
    "import openai\n",
    "import requests"
   ]
  },
  {
   "cell_type": "code",
   "execution_count": 2,
   "metadata": {},
   "outputs": [],
   "source": [
    "key_location = '/Users/silvi/Downloads/key-location/genaikey.txt'\n",
    "\n",
    "with open(key_location, 'r') as file:\n",
    "    key = file.readline().strip()"
   ]
  },
  {
   "cell_type": "code",
   "execution_count": 3,
   "metadata": {},
   "outputs": [],
   "source": [
    "openai.api_key = key"
   ]
  },
  {
   "cell_type": "code",
   "execution_count": 4,
   "metadata": {},
   "outputs": [
    {
     "name": "stdout",
     "output_type": "stream",
     "text": [
      "{\"messages\": [{\"role\": \"system\", \"content\": \"Albert is a Particle Physics Professor.\"}, {\"role\": \"user\", \"content\": \"What are quarks?\"}, {\"role\": \"assistant\", \"content\": \"Quarks are fundamental particles that are the building blocks of hadrons, such as protons and neutrons. They possess fractional electric charges and come in six types: up, down, charm, strange, top, and bottom.\"}]}\n",
      "{\"messages\": [{\"role\": \"system\", \"content\": \"Albert is a Particle Physics Professor.\"}, {\"role\": \"user\", \"content\": \"What are leptons?\"}, {\"role\": \"assistant\", \"content\": \"Leptons are another type of fundamental particle, which includes electrons, muons, and tau particles. They do not experience the strong nuclear force and are not composed of quarks.\"}]}\n",
      "{\"messages\": [{\"role\": \"system\", \"content\": \"Albert is a Particle Physics Professor.\"}, {\"role\": \"user\", \"content\": \"What is the Higgs Boson?\"}, {\"role\": \"assistant\", \"content\": \"The Higgs boson is a fundamental particle associated with the Higgs field, which gives particles their mass through the process of spontaneous symmetry breaking in the Standard Model of particle physics. Its discovery was confirmed at CERN's Large Hadron Collider (LHC) in 2012.\"}]}\n",
      "{\"messages\": [{\"role\": \"system\", \"content\": \"Albert is a Particle Physics Professor.\"}, {\"role\": \"user\", \"content\": \"What is the Standard Model?\"}, {\"role\": \"assistant\", \"content\": \"The Standard Model is the theoretical framework in particle physics that describes the electromagnetic, weak, and strong nuclear interactions, as well as classifies all known elementary particles. It does not include gravity.\"}]}\n",
      "{\"messages\": [{\"role\": \"system\", \"content\": \"Albert is a Particle Physics Professor.\"}, {\"role\": \"user\", \"content\": \"What are Gauge Bosons?\"}, {\"role\": \"assistant\", \"content\": \"Gauge bosons are particles that mediate the fundamental forces in the Standard Model. For example, photons mediate electromagnetism, while W and Z bosons mediate the weak nuclear force, and gluons mediate the strong nuclear force.\"}]}\n",
      "{\"messages\": [{\"role\": \"system\", \"content\": \"Albert is a Particle Physics Professor.\"}, {\"role\": \"user\", \"content\": \"What are Fermions?\"}, {\"role\": \"assistant\", \"content\": \"Fermions are a class of particles that obey Fermi-Dirac statistics and include both quarks and leptons. They have half-integer values of spin and obey the Pauli exclusion principle, which prohibits identical fermions from occupying the same quantum state simultaneously.\"}]}\n",
      "{\"messages\": [{\"role\": \"system\", \"content\": \"Albert is a Particle Physics Professor.\"}, {\"role\": \"user\", \"content\": \"What is a Grand Unified Theory (GUT)?\"}, {\"role\": \"assistant\", \"content\": \"A Grand Unified Theory is a theoretical framework that attempts to unify the electromagnetic, weak, and strong nuclear forces into a single force at high energy scales. While several GUT models have been proposed, experimental evidence to support them is currently lacking.\"}]}\n",
      "{\"messages\": [{\"role\": \"system\", \"content\": \"Albert is a Particle Physics Professor.\"}, {\"role\": \"user\", \"content\": \"What are Neutrinos?\"}, {\"role\": \"assistant\", \"content\": \"Neutrinos are neutral, weakly interacting particles that belong to the lepton family. They come in three flavors: electron neutrinos, muon neutrinos, and tau neutrinos. Neutrinos have tiny masses and are produced in various astrophysical processes and particle interactions.\"}]}\n",
      "{\"messages\": [{\"role\": \"system\", \"content\": \"Albert is a Particle Physics Professor.\"}, {\"role\": \"user\", \"content\": \"What is Antimatter?\"}, {\"role\": \"assistant\", \"content\": \"Antimatter consists of antiparticles, which have the same mass but opposite charge to their corresponding particles. When matter and antimatter collide, they annihilate each other, producing energy according to Einstein's famous equation, E=mcÂ².\"}]}\n",
      "{\"messages\": [{\"role\": \"system\", \"content\": \"Albert is a Particle Physics Professor.\"}, {\"role\": \"user\", \"content\": \"What is Quantum Chromodynamics (QCD)?\"}, {\"role\": \"assistant\", \"content\": \"Quantum Chromodynamics is the theory that describes the strong nuclear force that binds quarks together to form hadrons such as protons and neutrons. It is characterized by the exchange of gluons between quarks and is an essential component of the Standard Model.\"}]}\n",
      "\n"
     ]
    }
   ],
   "source": [
    "with open(\"./data.jsonl\") as f: # The with keyword automatically closes the file when you are done\n",
    "   print(f.read())"
   ]
  },
  {
   "cell_type": "code",
   "execution_count": 5,
   "metadata": {},
   "outputs": [],
   "source": [
    "file = openai.files.create(\n",
    "  file=open(\"data.jsonl\", \"rb\"),\n",
    "  purpose=\"fine-tune\"\n",
    ")"
   ]
  },
  {
   "cell_type": "code",
   "execution_count": 6,
   "metadata": {},
   "outputs": [
    {
     "name": "stdout",
     "output_type": "stream",
     "text": [
      "FineTuningJob(id='ftjob-0QefUSFQ1RulkIN9yOjtxTNp', created_at=1709155887, error=Error(code=None, message=None, param=None, error=None), fine_tuned_model=None, finished_at=None, hyperparameters=Hyperparameters(n_epochs='auto', batch_size='auto', learning_rate_multiplier='auto'), model='gpt-3.5-turbo-0613', object='fine_tuning.job', organization_id='org-yWjH9ZcfOsQiCyzJVDdBx0JV', result_files=[], status='validating_files', trained_tokens=None, training_file='file-OFiYN2VyCiHrmPCt0Uy5gpIh', validation_file=None, user_provided_suffix=None)\n"
     ]
    }
   ],
   "source": [
    "openai.fine_tuning.jobs.create(\n",
    "  training_file=file.id,\n",
    "  model=\"gpt-3.5-turbo\"\n",
    ")"
   ]
  },
  {
   "cell_type": "code",
   "execution_count": 11,
   "metadata": {},
   "outputs": [
    {
     "data": {
      "text/plain": [
       "SyncCursorPage[FineTuningJob](data=[FineTuningJob(id='ftjob-0QefUSFQ1RulkIN9yOjtxTNp', created_at=1709155887, error=Error(code=None, message=None, param=None, error=None), fine_tuned_model=None, finished_at=None, hyperparameters=Hyperparameters(n_epochs=10, batch_size=1, learning_rate_multiplier=2), model='gpt-3.5-turbo-0613', object='fine_tuning.job', organization_id='org-yWjH9ZcfOsQiCyzJVDdBx0JV', result_files=[], status='running', trained_tokens=None, training_file='file-OFiYN2VyCiHrmPCt0Uy5gpIh', validation_file=None, user_provided_suffix=None), FineTuningJob(id='ftjob-TocBOGAPFhlhp44Z8BerpFnb', created_at=1709154116, error=Error(code='invalid_n_examples', message='Training file has 2 example(s), but must have at least 10 examples', param='training_file'), fine_tuned_model=None, finished_at=None, hyperparameters=Hyperparameters(n_epochs='auto', batch_size='auto', learning_rate_multiplier='auto'), model='gpt-3.5-turbo-0613', object='fine_tuning.job', organization_id='org-yWjH9ZcfOsQiCyzJVDdBx0JV', result_files=[], status='failed', trained_tokens=None, training_file='file-9Del30fuCiOJnDteBNWmf1s0', validation_file=None, user_provided_suffix=None), FineTuningJob(id='ftjob-7Qxi0G3K6Bl2wPWBG3Gyc8WD', created_at=1709151732, error=Error(code=None, message=None, param=None, error=None), fine_tuned_model='ft:gpt-3.5-turbo-0613:bitdrops-ai::8xKpwUYs', finished_at=1709152139, hyperparameters=Hyperparameters(n_epochs=7, batch_size=1, learning_rate_multiplier=2), model='gpt-3.5-turbo-0613', object='fine_tuning.job', organization_id='org-yWjH9ZcfOsQiCyzJVDdBx0JV', result_files=['file-pGoCAXsdoReyZP29iEhsUNKy'], status='succeeded', trained_tokens=12306, training_file='file-raUE5xRFY9GBM8vapof0NZnG', validation_file=None, user_provided_suffix=None)], object='list', has_more=False)"
      ]
     },
     "execution_count": 11,
     "metadata": {},
     "output_type": "execute_result"
    }
   ],
   "source": [
    "# List 10 fine-tuning jobs\n",
    "openai.fine_tuning.jobs.list(limit=10)\n"
   ]
  },
  {
   "cell_type": "code",
   "execution_count": 21,
   "metadata": {},
   "outputs": [
    {
     "name": "stdout",
     "output_type": "stream",
     "text": [
      "fine-tuning job status succeeded\n",
      "fine-tuning job error Error(code=None, message=None, param=None, error=None)\n",
      "fine-tuning model ft:gpt-3.5-turbo-0613:bitdrops-ai::8xLv0NuE\n"
     ]
    }
   ],
   "source": [
    "# Retrieve the state of a fine-tune\n",
    "fine_tuning_job_state = openai.fine_tuning.jobs.retrieve(\"ftjob-0QefUSFQ1RulkIN9yOjtxTNp\")\n",
    "\n",
    "print(\"fine-tuning job status\", fine_tuning_job_state.status)\n",
    "print(\"fine-tuning job error\", fine_tuning_job_state.error)\n",
    "# Eventually, fine_tuned_model gets from None to ft:gpt-3.5-turbo:my-org:custom_suffix:id\n",
    "print(\"fine-tuning model\", fine_tuning_job_state.fine_tuned_model)\n",
    "\n",
    "# Cancel a job, if it takes too long...\n",
    "# openai.fine_tuning.jobs.cancel(\"ftjob-0QefUSFQ1RulkIN9yOjtxTNp\")"
   ]
  },
  {
   "cell_type": "code",
   "execution_count": 25,
   "metadata": {},
   "outputs": [
    {
     "name": "stdout",
     "output_type": "stream",
     "text": [
      "Quarks are fundamental particles that are the building blocks of hadrons, such as protons and neutrons. They possess fractional electric charges and come in six types: up, down, charm, strange, top, and bottom. Quarks are bound together by the strong nuclear force mediated by gluons.\n"
     ]
    }
   ],
   "source": [
    "completion = openai.chat.completions.create(\n",
    "  model=\"ft:gpt-3.5-turbo-0613:bitdrops-ai::8xLv0NuE\",\n",
    "  messages=[\n",
    "    {\"role\": \"system\", \"content\": \"Albert is a Particle Physics Professor.\"},\n",
    "    {\"role\": \"user\", \"content\": \"What are quarks?\"}\n",
    "  ],\n",
    "  temperature=0.7 # how stocastic on a scale of 0 to 2; suggested 0.7\n",
    ")\n",
    "print(completion.choices[0].message.content)\n",
    "\n",
    "# related training was:\n",
    "# {\"messages\": [{\"role\": \"system\", \"content\": \"Albert is a Particle Physics Professor.\"}, \n",
    "# {\"role\": \"user\", \"content\": \"What are quarks?\"}, \n",
    "# {\"role\": \"assistant\", \"content\": \"Quarks are fundamental particles that are the building blocks of hadrons, such as protons and neutrons. They possess fractional electric charges and come in six types: up, down, charm, strange, top, and bottom.\"}]}\n"
   ]
  }
 ],
 "metadata": {
  "kernelspec": {
   "display_name": "Python 3",
   "language": "python",
   "name": "python3"
  },
  "language_info": {
   "codemirror_mode": {
    "name": "ipython",
    "version": 3
   },
   "file_extension": ".py",
   "mimetype": "text/x-python",
   "name": "python",
   "nbconvert_exporter": "python",
   "pygments_lexer": "ipython3",
   "version": "3.12.1"
  }
 },
 "nbformat": 4,
 "nbformat_minor": 2
}
