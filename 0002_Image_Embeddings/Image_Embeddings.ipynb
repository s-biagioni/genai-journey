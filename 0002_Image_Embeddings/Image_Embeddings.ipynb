{
 "cells": [
  {
   "cell_type": "markdown",
   "metadata": {},
   "source": [
    "# Image Embedding\n",
    "\n",
    "- Picture to text\n",
    "    + https://platform.openai.com/docs/guides/vision/uploading-base-64-encoded-images\n",
    "- Text to embedding\n",
    "    + https://platform.openai.com/docs/guides/embeddings/what-are-embeddings?lang=python"
   ]
  },
  {
   "cell_type": "code",
   "execution_count": 1,
   "metadata": {},
   "outputs": [],
   "source": [
    "import base64\n",
    "import requests\n",
    "import json\n",
    "import os"
   ]
  },
  {
   "cell_type": "code",
   "execution_count": 2,
   "metadata": {},
   "outputs": [],
   "source": [
    "key_location = '/Users/silvi/Downloads/key-location/genaikey.txt'\n",
    "\n",
    "with open(key_location, 'r') as file:\n",
    "    key = file.readline().strip()"
   ]
  },
  {
   "cell_type": "code",
   "execution_count": 3,
   "metadata": {},
   "outputs": [],
   "source": [
    "# Function to encode the image\n",
    "def encode_image(image_path):\n",
    "  with open(image_path, \"rb\") as image_file:\n",
    "    return base64.b64encode(image_file.read()).decode('utf-8')"
   ]
  },
  {
   "cell_type": "code",
   "execution_count": 4,
   "metadata": {},
   "outputs": [],
   "source": [
    "# Path to your images, using raw strings\n",
    "image_path1 = r\"C:\\Users\\silvi\\Proton Drive\\silvio.biagioni\\My files\\stdy\\genai\\mine\\0002_Image_Embeddings\\minesweeper.png\"\n",
    "image_path2 = r\"C:\\Users\\silvi\\Proton Drive\\silvio.biagioni\\My files\\stdy\\genai\\mine\\0002_Image_Embeddings\\dish1.jpg\"\n",
    "image_path3 = r\"C:\\Users\\silvi\\Proton Drive\\silvio.biagioni\\My files\\stdy\\genai\\mine\\0002_Image_Embeddings\\dish2.jpg\"\n",
    "\n",
    "# Getting the base64 string\n",
    "base64_image1 = encode_image(image_path1)\n",
    "base64_image2 = encode_image(image_path2)\n",
    "base64_image3 = encode_image(image_path3)"
   ]
  },
  {
   "cell_type": "code",
   "execution_count": 5,
   "metadata": {},
   "outputs": [],
   "source": [
    "headers = {\n",
    "  \"Content-Type\": \"application/json\",\n",
    "  \"Authorization\": f\"Bearer {key}\"\n",
    "}\n",
    "\n",
    "max_tokens = 25\n",
    "prompt = \"What’s in this image? Make sure your description is below \" + str(max_tokens) + \" tokens.\"\n",
    "temperature = 0 # creativity on a scale of 0 to 2; generally 0.7\n",
    "\n",
    "payload1 = {\n",
    "  \"model\": \"gpt-4-turbo\",\n",
    "  \"messages\": [\n",
    "    {\n",
    "      \"role\": \"user\",\n",
    "      \"content\": [\n",
    "        {\n",
    "          \"type\": \"text\",\n",
    "          \"text\": prompt\n",
    "        },\n",
    "        {\n",
    "          \"type\": \"image_url\",\n",
    "          \"image_url\": {\n",
    "            \"url\": f\"data:image/jpeg;base64,{base64_image1}\"\n",
    "          }\n",
    "        }\n",
    "      ]\n",
    "    }\n",
    "  ],\n",
    "  \"temperature\": temperature,\n",
    "  \"max_tokens\": max_tokens\n",
    "}\n",
    "\n",
    "payload2 = {\n",
    "  \"model\": \"gpt-4-turbo\",\n",
    "  \"messages\": [\n",
    "    {\n",
    "      \"role\": \"user\",\n",
    "      \"content\": [\n",
    "        {\n",
    "          \"type\": \"text\",\n",
    "          \"text\": prompt\n",
    "        },\n",
    "        {\n",
    "          \"type\": \"image_url\",\n",
    "          \"image_url\": {\n",
    "            \"url\": f\"data:image/jpeg;base64,{base64_image2}\"\n",
    "          }\n",
    "        }\n",
    "      ]\n",
    "    }\n",
    "  ],\n",
    "  \"temperature\": temperature,\n",
    "  \"max_tokens\": max_tokens\n",
    "}\n",
    "\n",
    "payload3 = {\n",
    "  \"model\": \"gpt-4-turbo\",\n",
    "  \"messages\": [\n",
    "    {\n",
    "      \"role\": \"user\",\n",
    "      \"content\": [\n",
    "        {\n",
    "          \"type\": \"text\",\n",
    "          \"text\": prompt\n",
    "        },\n",
    "        {\n",
    "          \"type\": \"image_url\",\n",
    "          \"image_url\": {\n",
    "            \"url\": f\"data:image/jpeg;base64,{base64_image3}\"\n",
    "          }\n",
    "        }\n",
    "      ]\n",
    "    }\n",
    "  ],\n",
    "  \"temperature\": temperature,  \n",
    "  \"max_tokens\": max_tokens\n",
    "}"
   ]
  },
  {
   "cell_type": "code",
   "execution_count": 6,
   "metadata": {},
   "outputs": [],
   "source": [
    "response1 = requests.post(\"https://api.openai.com/v1/chat/completions\", headers=headers, json=payload1)\n",
    "response2 = requests.post(\"https://api.openai.com/v1/chat/completions\", headers=headers, json=payload2)\n",
    "response3 = requests.post(\"https://api.openai.com/v1/chat/completions\", headers=headers, json=payload3)"
   ]
  },
  {
   "cell_type": "code",
   "execution_count": 7,
   "metadata": {},
   "outputs": [
    {
     "name": "stdout",
     "output_type": "stream",
     "text": [
      "{'id': 'chatcmpl-9HH58EI3agPE8JrwigAvsAyFireql', 'object': 'chat.completion', 'created': 1713904266, 'model': 'gpt-4-turbo-2024-04-09', 'choices': [{'index': 0, 'message': {'role': 'assistant', 'content': 'A screenshot of an online Minesweeper game with a timer and smiley face.'}, 'logprobs': None, 'finish_reason': 'stop'}], 'usage': {'prompt_tokens': 448, 'completion_tokens': 17, 'total_tokens': 465}, 'system_fingerprint': 'fp_67e6987839'}\n",
      "{'id': 'chatcmpl-9HH5Jo3oYa2t4iY6XUF1ya3FpgeMN', 'object': 'chat.completion', 'created': 1713904277, 'model': 'gpt-4-turbo-2024-04-09', 'choices': [{'index': 0, 'message': {'role': 'assistant', 'content': 'Steak with herb butter, mashed potatoes, and sautéed vegetables on a plate.'}, 'logprobs': None, 'finish_reason': 'stop'}], 'usage': {'prompt_tokens': 788, 'completion_tokens': 19, 'total_tokens': 807}, 'system_fingerprint': 'fp_67e6987839'}\n",
      "{'id': 'chatcmpl-9HH5UJHjr7gbfekZU4MSBuvyW4aL4', 'object': 'chat.completion', 'created': 1713904288, 'model': 'gpt-4-turbo-2024-04-09', 'choices': [{'index': 0, 'message': {'role': 'assistant', 'content': 'Swedish meatballs with mashed potatoes, lingonberries, and cucumber salad.'}, 'logprobs': None, 'finish_reason': 'stop'}], 'usage': {'prompt_tokens': 788, 'completion_tokens': 16, 'total_tokens': 804}, 'system_fingerprint': 'fp_67e6987839'}\n",
      "\n",
      "A screenshot of an online Minesweeper game with a timer and smiley face.\n",
      "Steak with herb butter, mashed potatoes, and sautéed vegetables on a plate.\n",
      "Swedish meatballs with mashed potatoes, lingonberries, and cucumber salad.\n"
     ]
    }
   ],
   "source": [
    "print(response1.json())\n",
    "print(response2.json())\n",
    "print(response3.json())\n",
    "\n",
    "# add new line\n",
    "print()\n",
    "\n",
    "content1 = response1.json()['choices'][0]['message']['content']\n",
    "content2 = response2.json()['choices'][0]['message']['content']\n",
    "content3 = response3.json()['choices'][0]['message']['content']\n",
    "print(content1)\n",
    "print(content2)\n",
    "print(content3)"
   ]
  },
  {
   "cell_type": "code",
   "execution_count": 8,
   "metadata": {},
   "outputs": [],
   "source": [
    "import openai\n",
    "\n",
    "openai.api_key = key"
   ]
  },
  {
   "cell_type": "code",
   "execution_count": 13,
   "metadata": {},
   "outputs": [
    {
     "name": "stdout",
     "output_type": "stream",
     "text": [
      "\n",
      "[-0.026293493807315826, -0.001618022215552628, 0.005114874802529812, 0.02388967201113701, -0.013173756189644337, -0.003011530265212059, 0.04151320084929466, -0.011377641931176186, -0.02925100550055504, 0.02637452259659767]\n",
      "[-0.026464182883501053, -0.03669813275337219, -0.07195545732975006, 0.018306689336895943, -0.02093403786420822, -0.01184425875544548, -0.012310400605201721, 0.02803211845457554, 0.025129321962594986, -0.002804800868034363]\n",
      "[-0.05506456270813942, -0.013195100240409374, -0.027940167114138603, -0.01879333145916462, -0.02636980637907982, -0.02188306488096714, -0.009529228322207928, -0.005975524429231882, 0.017406519502401352, 0.0028297065291553736]\n"
     ]
    }
   ],
   "source": [
    "response = openai.embeddings.create(\n",
    "    input=[content1, content2, content3],\n",
    "    model=\"text-embedding-3-small\"\n",
    ")\n",
    "\n",
    "# print(response)\n",
    "\n",
    "# add a new line\n",
    "print()\n",
    "\n",
    "\n",
    "# print the first 10 elements of the embedding\n",
    "print(response.data[0].embedding[:10])\n",
    "print(response.data[1].embedding[:10])\n",
    "print(response.data[2].embedding[:10])"
   ]
  },
  {
   "cell_type": "code",
   "execution_count": 10,
   "metadata": {},
   "outputs": [],
   "source": [
    "from scipy import spatial"
   ]
  },
  {
   "cell_type": "code",
   "execution_count": 11,
   "metadata": {},
   "outputs": [
    {
     "name": "stdout",
     "output_type": "stream",
     "text": [
      "A screenshot of an online Minesweeper game with a timer and smiley face.\n",
      "Steak with herb butter, mashed potatoes, and sautéed vegetables on a plate.\n",
      "Swedish meatballs with mashed potatoes, lingonberries, and cucumber salad.\n",
      "\n",
      "euclidean distance(content1, content2): \n",
      "1.2942117705058542\n",
      "euclidean distance(content2, content3): \n",
      "1.1080693530122256\n",
      "euclidean distance(content1, content3): \n",
      "1.3200403548077118\n",
      "\n",
      "cosine similarity(content1, content2): \n",
      "0.1625079439068794\n",
      "cosine similarity(content2, content3): \n",
      "0.38609111736019286\n",
      "cosine similarity(content1, content3): \n",
      "0.12874675126529112\n",
      "\n",
      "manhattan distance(content1, content2): \n",
      "40.09568326443423\n",
      "manhattan distance(content2, content3): \n",
      "34.397873350793816\n",
      "manhattan distance(content1, content3): \n",
      "40.48731136177139\n"
     ]
    }
   ],
   "source": [
    "print(content1)\n",
    "print(content2)\n",
    "print(content3)\n",
    "\n",
    "# add a new line\n",
    "print()\n",
    "\n",
    "# compute the Euclidean distance between the embeddings and show the result\n",
    "euclidean_distance1 = spatial.distance.euclidean(response.data[0].embedding, response.data[1].embedding)\n",
    "print('euclidean distance(content1, content2): ')\n",
    "print(euclidean_distance1)\n",
    "\n",
    "euclidean_distance2 = spatial.distance.euclidean(response.data[1].embedding, response.data[2].embedding)\n",
    "print('euclidean distance(content2, content3): ')\n",
    "print(euclidean_distance2)\n",
    "\n",
    "euclidean_distance3 = spatial.distance.euclidean(response.data[0].embedding, response.data[2].embedding)\n",
    "print('euclidean distance(content1, content3): ')\n",
    "print(euclidean_distance3)\n",
    "\n",
    "\n",
    "# add a new line\n",
    "print()\n",
    "\n",
    "cosine_similarity1 = 1 - spatial.distance.cosine(response.data[0].embedding, response.data[1].embedding)\n",
    "print('cosine similarity(content1, content2): ')\n",
    "print(cosine_similarity1)\n",
    "\n",
    "cosine_similarity2 = 1 - spatial.distance.cosine(response.data[1].embedding, response.data[2].embedding)\n",
    "print('cosine similarity(content2, content3): ')\n",
    "print(cosine_similarity2)\n",
    "\n",
    "cosine_similarity3 = 1 - spatial.distance.cosine(response.data[0].embedding, response.data[2].embedding)\n",
    "print('cosine similarity(content1, content3): ')\n",
    "print(cosine_similarity3)\n",
    "\n",
    "# add a new line\n",
    "print()\n",
    "\n",
    "# compute the Manhattan distance between the embeddings and show the result\n",
    "manhattan_distance1 = spatial.distance.cityblock(response.data[0].embedding, response.data[1].embedding)\n",
    "print('manhattan distance(content1, content2): ')\n",
    "print(manhattan_distance1)\n",
    "\n",
    "manhattan_distance2 = spatial.distance.cityblock(response.data[1].embedding, response.data[2].embedding)\n",
    "print('manhattan distance(content2, content3): ')\n",
    "print(manhattan_distance2)\n",
    "\n",
    "manhattan_distance3 = spatial.distance.cityblock(response.data[0].embedding, response.data[2].embedding)\n",
    "print('manhattan distance(content1, content3): ')\n",
    "print(manhattan_distance3)\n",
    "\n",
    "\n",
    "\n",
    "\n"
   ]
  }
 ],
 "metadata": {
  "kernelspec": {
   "display_name": "Python 3",
   "language": "python",
   "name": "python3"
  },
  "language_info": {
   "codemirror_mode": {
    "name": "ipython",
    "version": 3
   },
   "file_extension": ".py",
   "mimetype": "text/x-python",
   "name": "python",
   "nbconvert_exporter": "python",
   "pygments_lexer": "ipython3",
   "version": "3.12.1"
  }
 },
 "nbformat": 4,
 "nbformat_minor": 2
}
