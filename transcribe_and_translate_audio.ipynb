{
 "cells": [
  {
   "cell_type": "markdown",
   "id": "dc44fc75-484a-4dd2-963c-73a9fecc7a65",
   "metadata": {
    "papermill": {
     "duration": 0.003141,
     "end_time": "2023-10-31T18:02:43.885892",
     "exception": false,
     "start_time": "2023-10-31T18:02:43.882751",
     "status": "completed"
    },
    "tags": []
   },
   "source": [
    "# Translation Using the Library"
   ]
  },
  {
   "cell_type": "code",
   "execution_count": 31,
   "id": "ba0e2192",
   "metadata": {},
   "outputs": [],
   "source": [
    "# !pip install openai"
   ]
  },
  {
   "cell_type": "code",
   "execution_count": 32,
   "id": "997c2c60-88df-45fb-a852-27ed6c84bfab",
   "metadata": {
    "papermill": {
     "duration": 0.143456,
     "end_time": "2023-10-31T18:02:44.032154",
     "exception": false,
     "start_time": "2023-10-31T18:02:43.888698",
     "status": "completed"
    },
    "tags": []
   },
   "outputs": [],
   "source": [
    "import json\n",
    "import os\n",
    "import openai"
   ]
  },
  {
   "cell_type": "code",
   "execution_count": 33,
   "id": "2f3600c1-7402-4a68-b2b7-dedf468868d5",
   "metadata": {
    "papermill": {
     "duration": 0.00913,
     "end_time": "2023-10-31T18:02:44.043466",
     "exception": false,
     "start_time": "2023-10-31T18:02:44.034336",
     "status": "completed"
    },
    "tags": []
   },
   "outputs": [],
   "source": [
    "key_location = '/Users/silvi/Downloads/key-location/genaikey.txt'\n",
    "\n",
    "with open(key_location, 'r') as file:\n",
    "    key = file.readline().strip()"
   ]
  },
  {
   "cell_type": "code",
   "execution_count": 34,
   "id": "09c690c4-75c3-44f4-8c68-84be20290978",
   "metadata": {
    "papermill": {
     "duration": 0.007697,
     "end_time": "2023-10-31T18:02:44.052624",
     "exception": false,
     "start_time": "2023-10-31T18:02:44.044927",
     "status": "completed"
    },
    "tags": []
   },
   "outputs": [],
   "source": [
    "openai.api_key = key"
   ]
  },
  {
   "cell_type": "code",
   "execution_count": 35,
   "id": "e64f7332-f4e5-45cb-8f75-6ef60ab0633c",
   "metadata": {
    "papermill": {
     "duration": 0.382375,
     "end_time": "2023-10-31T18:02:44.436507",
     "exception": true,
     "start_time": "2023-10-31T18:02:44.054132",
     "status": "failed"
    },
    "tags": []
   },
   "outputs": [
    {
     "name": "stdout",
     "output_type": "stream",
     "text": [
      "Transcription(text='WARNING! Some viewers may find the following footage deeply disturbing.')\n"
     ]
    }
   ],
   "source": [
    "audio_file= open(\n",
    "    \"./warning.mp3\"\n",
    "    , \"rb\")\n",
    "transcript = openai.audio.transcriptions.create(model=\"whisper-1\", file=audio_file)\n",
    "\n",
    "print(transcript)"
   ]
  },
  {
   "cell_type": "code",
   "execution_count": 36,
   "id": "cd057ecc-e47b-47bd-a871-2b010d167c29",
   "metadata": {},
   "outputs": [],
   "source": [
    "def make_openai_request(prompt):\n",
    "    \"\"\"Takes a prompt as an argument and sends a POST request to the OpenAI API\"\"\"\n",
    "    response = openai.chat.completions.create(\n",
    "    model=\"gpt-3.5-turbo\",\n",
    "    messages=[{\"role\": \"user\",\"content\": prompt}],\n",
    "    temperature=0, # creativity on a scale of 0 to 2; generally 0.7\n",
    "    max_tokens=256\n",
    "    )\n",
    "\n",
    "    # Extract the generated labels from the API response\n",
    "    return response.choices[0].message.content.split(\"\\n\")"
   ]
  },
  {
   "cell_type": "code",
   "execution_count": 37,
   "id": "9a8f849d",
   "metadata": {},
   "outputs": [],
   "source": [
    "input_text = transcript.text"
   ]
  },
  {
   "cell_type": "code",
   "execution_count": 38,
   "id": "aad799d4",
   "metadata": {},
   "outputs": [],
   "source": [
    "prompt=\"Translate the following text from English to Italian, without translating disturbing with disturbante:\\n\" + input_text"
   ]
  },
  {
   "cell_type": "code",
   "execution_count": 39,
   "id": "1842a027",
   "metadata": {},
   "outputs": [],
   "source": [
    "translation = make_openai_request(prompt)"
   ]
  },
  {
   "cell_type": "code",
   "execution_count": 40,
   "id": "c0d218e8",
   "metadata": {},
   "outputs": [
    {
     "name": "stdout",
     "output_type": "stream",
     "text": [
      "ATTENZIONE! Alcuni spettatori potrebbero trovare le immagini seguenti molto inquietanti.\n"
     ]
    }
   ],
   "source": [
    "print(translation[0])\n",
    "\n",
    "# Previous results\n",
    "# Temperature 0\n",
    "# ATTENZIONE! Alcuni spettatori potrebbero trovare le immagini seguenti molto inquietanti.\n",
    "# Temperature 0.7\n",
    "# ATTENZIONE! Alcuni spettatori potrebbero trovare le seguenti immagini profondamente sconvolgenti.\n",
    "# AVVERTENZA! Alcuni spettatori potrebbero trovare le seguenti immagini profondamente sconvolgenti.\n",
    "# ATTENZIONE! Alcuni spettatori potrebbero trovare le seguenti immagini profondamente inquietanti.\n",
    "# ATTENZIONE! Alcuni spettatori potrebbero trovare le immagini seguenti molto inquietanti.   <----\n",
    "# ATTENZIONE! Alcuni spettatori potrebbero trovare le immagini seguenti profondamente inquietanti.\n",
    "# ATTENZIONE! Alcuni spettatori potrebbero trovare le immagini seguenti molto inquietanti.   <----\n"
   ]
  }
 ],
 "metadata": {
  "kernelspec": {
   "display_name": "Python 3 (ipykernel)",
   "language": "python",
   "name": "python3"
  },
  "language_info": {
   "codemirror_mode": {
    "name": "ipython",
    "version": 3
   },
   "file_extension": ".py",
   "mimetype": "text/x-python",
   "name": "python",
   "nbconvert_exporter": "python",
   "pygments_lexer": "ipython3",
   "version": "3.12.1"
  },
  "papermill": {
   "default_parameters": {},
   "duration": 1.739883,
   "end_time": "2023-10-31T18:02:44.664654",
   "environment_variables": {},
   "exception": true,
   "input_path": "m4/10-translation/translation_library.ipynb",
   "output_path": "m4/10-translation/translation_library.ipynb",
   "parameters": {},
   "start_time": "2023-10-31T18:02:42.924771",
   "version": "2.4.0"
  }
 },
 "nbformat": 4,
 "nbformat_minor": 5
}
