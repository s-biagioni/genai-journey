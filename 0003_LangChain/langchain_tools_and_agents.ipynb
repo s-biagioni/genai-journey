{
 "cells": [
  {
   "cell_type": "code",
   "execution_count": 25,
   "metadata": {},
   "outputs": [],
   "source": [
    "from langchain.agents import load_tools, initialize_agent\n",
    "from langchain.agents import AgentType\n",
    "from langchain.chat_models import ChatOpenAI"
   ]
  },
  {
   "cell_type": "code",
   "execution_count": 26,
   "metadata": {},
   "outputs": [],
   "source": [
    "# list of OpenAI models: https://platform.openai.com/docs/models\n",
    "\n",
    "# llm_model = \"gpt-3.5-turbo\"\n",
    "llm_model = \"gpt-4o\"\n",
    "# llm_model = \"gpt-4-turbo\"\n",
    "# llm_model = \"gpt-4\"\n",
    "\n",
    "llm = ChatOpenAI(temperature=0, model=llm_model)"
   ]
  },
  {
   "cell_type": "code",
   "execution_count": 27,
   "metadata": {},
   "outputs": [],
   "source": [
    "# Needed user env variables: OPENAI_API_KEY, GOOGLE_API_KEY, GOOGLE_CSE_ID\n",
    "\n",
    "tools = load_tools([\"wikipedia\", \"dalle-image-generator\", \"google-search\"], llm=llm)"
   ]
  },
  {
   "cell_type": "code",
   "execution_count": 28,
   "metadata": {},
   "outputs": [],
   "source": [
    "agent= initialize_agent(\n",
    "    tools, \n",
    "    llm, \n",
    "    agent=AgentType.CHAT_ZERO_SHOT_REACT_DESCRIPTION,\n",
    "    handle_parsing_errors=True,\n",
    "    verbose = True)"
   ]
  },
  {
   "cell_type": "code",
   "execution_count": 31,
   "metadata": {},
   "outputs": [
    {
     "name": "stdout",
     "output_type": "stream",
     "text": [
      "\n",
      "\n",
      "\u001b[1m> Entering new AgentExecutor chain...\u001b[0m\n",
      "\u001b[32;1m\u001b[1;3mThought: To provide an accurate and concise history of Edinburgh, I should refer to a reliable source. Wikipedia is a good option for this purpose.\n",
      "\n",
      "Action:\n",
      "```\n",
      "{\n",
      "  \"action\": \"wikipedia\",\n",
      "  \"action_input\": \"History of Edinburgh\"\n",
      "}\n",
      "```\n",
      "\u001b[0m\n",
      "Observation: \u001b[36;1m\u001b[1;3mPage: History of Edinburgh\n",
      "Summary: While the area around modern-day Edinburgh has been inhabited for thousands of years, the history of Edinburgh as a definite settlement can be traced to the early Middle Ages when a hillfort was established in the area, most likely on the Castle Rock. From the seventh to the tenth centuries it was part of the Anglian Kingdom of Northumbria, becoming thereafter a royal residence of the Scottish kings. The town that developed next to the stronghold was established by royal charter in the early 12th century, and by the middle of the 14th century was being described as the capital of Scotland. The area known as the New Town was added from the second half of the 18th century onwards. Edinburgh was Scotland's largest city until Glasgow outgrew it in the first two decades of the 19th century.  Following Scottish devolution in the very late 20th century, Scotland's Parliament was re-established in Edinburgh.\n",
      "\n",
      "Page: University of Edinburgh\n",
      "Summary: The University of Edinburgh (Scots: University o Edinburgh, Scottish Gaelic: Oilthigh Dhùn Èideann; abbreviated as Edin. in post-nominals) is a public research university based in Edinburgh, Scotland. Founded by the town council under the authority of a royal charter of King James VI in 1582 and officially opened in 1583, it is one of Scotland's four ancient universities and the sixth-oldest university in continuous operation in the English-speaking world. The university played an important role in Edinburgh becoming a chief intellectual centre during the Scottish Enlightenment and contributed to the city being nicknamed the \"Athens of the North\". \n",
      "The three main global university rankings (ARWU, THE, and QS) all place Edinburgh within their respective top 40. It is a member of several associations of research-intensive universities, including the Coimbra Group, League of European Research Universities, Russell Group, Una Europa, and Universitas 21. In the fiscal year ending 31 July 2023, it had a total income of £1.341 billion, of which £339.5 million was from research grants and contracts. It has the third-largest endowment in the UK, behind only Cambridge and Oxford. The university occupies five main campuses in the city of Edinburgh, which include many buildings of historical and architectural significance such as those in the Old Town.\n",
      "Edinburgh is the seventh-largest university in the UK by enrolment and receives over 69,000 undergraduate applications per year, making it the third-most popular university in the UK by volume of applications. Edinburgh had the seventh-highest average UCAS points amongst British universities for new entrants in 2021. The university continues to have links to the royal family, having had Prince Philip, Duke of Edinburgh as its chancellor from 1953 to 2010 and Anne, Princess Royal since March 2011.\n",
      "Alumni of the university include inventor Alexander Graham Bell, naturalist Charles Darwin, philosopher David Hume, physicist James Clerk Maxwell, and writers such as Sir J. M. Barrie, Sir Arthur Conan Doyle, J. K. Rowling, Sir Walter Scott, and Robert Louis Stevenson. The university counts several heads of state and government amongst its graduates, including three British prime ministers. Three Supreme Court justices of the UK were educated at Edinburgh. As of January 2023, 19 Nobel Prize laureates, four Pulitzer Prize winners, three Turing Award winners, and an Abel Prize laureate and Fields Medalist have been affiliated with Edinburgh as alumni or academic staff. Edinburgh alumni have won a total of ten Olympic gold medals.\n",
      "\n",
      "Page: Timeline of Edinburgh history\n",
      "Summary: This article is a timeline of the history of Edinburgh, Scotland, up to the present day. It traces its rise from an early hill fort and later royal residence to the bustling city and capital of Scotland that it is today.\u001b[0m\n",
      "Thought:\u001b[32;1m\u001b[1;3mTo provide a concise history of Edinburgh, I will summarize the key points from the information gathered.\n",
      "\n",
      "Edinburgh's history dates back to the early Middle Ages when a hillfort was established on Castle Rock. From the 7th to the 10th centuries, it was part of the Anglian Kingdom of Northumbria. It later became a royal residence for Scottish kings. The town next to the stronghold was established by royal charter in the early 12th century and was recognized as the capital of Scotland by the mid-14th century. The New Town area was developed from the late 18th century onwards. Edinburgh was Scotland's largest city until Glasgow surpassed it in the early 19th century. Following Scottish devolution in the late 20th century, the Scottish Parliament was re-established in Edinburgh.\n",
      "\n",
      "Final Answer: Edinburgh's history began in the early Middle Ages with a hillfort on Castle Rock. It was part of Northumbria before becoming a Scottish royal residence. The town was chartered in the 12th century and became Scotland's capital by the 14th century. The New Town was developed from the late 18th century. Edinburgh was the largest city in Scotland until the early 19th century, and the Scottish Parliament was re-established there in the late 20th century.\u001b[0m\n",
      "\n",
      "\u001b[1m> Finished chain.\u001b[0m\n"
     ]
    }
   ],
   "source": [
    "question = \"\"\"\n",
    "Could you please write a short version of the history of Edinburgh?\n",
    "\"\"\"\n",
    "result = agent(question) \n"
   ]
  },
  {
   "cell_type": "code",
   "execution_count": 32,
   "metadata": {},
   "outputs": [
    {
     "name": "stdout",
     "output_type": "stream",
     "text": [
      "Edinburgh's history began in the early Middle Ages with a hillfort on Castle Rock. It was part of Northumbria before becoming a Scottish royal residence. The town was chartered in the 12th century and became Scotland's capital by the 14th century. The New Town was developed from the late 18th century. Edinburgh was the largest city in Scotland until the early 19th century, and the Scottish Parliament was re-established there in the late 20th century.\n"
     ]
    }
   ],
   "source": [
    "print(result['output'])"
   ]
  }
 ],
 "metadata": {
  "kernelspec": {
   "display_name": "Python 3",
   "language": "python",
   "name": "python3"
  },
  "language_info": {
   "codemirror_mode": {
    "name": "ipython",
    "version": 3
   },
   "file_extension": ".py",
   "mimetype": "text/x-python",
   "name": "python",
   "nbconvert_exporter": "python",
   "pygments_lexer": "ipython3",
   "version": "3.12.1"
  }
 },
 "nbformat": 4,
 "nbformat_minor": 2
}
