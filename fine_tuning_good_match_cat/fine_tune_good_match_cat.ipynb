{
 "cells": [
  {
   "cell_type": "code",
   "execution_count": 1,
   "metadata": {},
   "outputs": [],
   "source": [
    "# Fine-tuning documentation: https://platform.openai.com/docs/guides/fine-tuning\n",
    "\n",
    "import json\n",
    "import os\n",
    "import openai\n",
    "import requests"
   ]
  },
  {
   "cell_type": "code",
   "execution_count": 2,
   "metadata": {},
   "outputs": [],
   "source": [
    "key_location = '/Users/silvi/Downloads/key-location/genaikey.txt'\n",
    "\n",
    "with open(key_location, 'r') as file:\n",
    "    key = file.readline().strip()"
   ]
  },
  {
   "cell_type": "code",
   "execution_count": 3,
   "metadata": {},
   "outputs": [],
   "source": [
    "openai.api_key = key"
   ]
  },
  {
   "cell_type": "code",
   "execution_count": 4,
   "metadata": {},
   "outputs": [
    {
     "name": "stdout",
     "output_type": "stream",
     "text": [
      "{\"messages\": [{\"role\": \"system\", \"content\": \"Cat expert.\"}, {\"role\": \"user\", \"content\": \"What is the best cat breed for someone living in an urban location and which has a relaxed temperament?\"}, {\"role\": \"assistant\", \"content\": \"The recommended breeds are Maine Coon, British Shorthair, and Ragdoll\"}]}\n",
      "{\"messages\": [{\"role\": \"system\", \"content\": \"Cat expert.\"}, {\"role\": \"user\", \"content\": \"I live in a suburban area and I'm quite active. What cat breeds would suit me?\"}, {\"role\": \"assistant\", \"content\": \"The recommended breeds are Bengal, Siberian, and American Shorthair\"}]}\n",
      "{\"messages\": [{\"role\": \"system\", \"content\": \"Cat expert.\"}, {\"role\": \"user\", \"content\": \"I'm from a rural area and I consider myself easygoing. Any suggestions for cat breeds?\"}, {\"role\": \"assistant\", \"content\": \"The recommended breeds are Norwegian Forest, Scottish Fold, and Manx\"}]}\n",
      "{\"messages\": [{\"role\": \"system\", \"content\": \"Cat expert.\"}, {\"role\": \"user\", \"content\": \"I'm an energetic person living in the city. What cat breeds match my lifestyle?\"}, {\"role\": \"assistant\", \"content\": \"The recommended breeds are Siamese, Burmese, and Sphynx\"}]}\n",
      "{\"messages\": [{\"role\": \"system\", \"content\": \"Cat expert.\"}, {\"role\": \"user\", \"content\": \"I live in the suburbs and I'm generally reserved. What cat breeds are suitable?\"}, {\"role\": \"assistant\", \"content\": \"The recommended breeds are Persian, Himalayan, and Chartreux\"}]}\n",
      "{\"messages\": [{\"role\": \"system\", \"content\": \"Cat expert.\"}, {\"role\": \"user\", \"content\": \"I reside in a rural area and I'm outgoing. Can you recommend some cat breeds?\"}, {\"role\": \"assistant\", \"content\": \"The recommended breeds are American Bobtail, Turkish Van, and Balinese\"}]}\n",
      "{\"messages\": [{\"role\": \"system\", \"content\": \"Cat expert.\"}, {\"role\": \"user\", \"content\": \"What cat breeds would you suggest for someone living in a city with a relaxed temperament?\"}, {\"role\": \"assistant\", \"content\": \"The recommended breeds are Maine Coon, British Shorthair, and Ragdoll\"}]}\n",
      "{\"messages\": [{\"role\": \"system\", \"content\": \"Cat expert.\"}, {\"role\": \"user\", \"content\": \"I'm quite active and live in the suburbs. What cat breeds should I consider?\"}, {\"role\": \"assistant\", \"content\": \"The recommended breeds are Bengal, Siberian, and American Shorthair\"}]}\n",
      "{\"messages\": [{\"role\": \"system\", \"content\": \"Cat expert.\"}, {\"role\": \"user\", \"content\": \"What cat breeds are suitable for someone living in a rural area and having an easygoing temperament?\"}, {\"role\": \"assistant\", \"content\": \"The recommended breeds are Norwegian Forest, Scottish Fold, and Manx\"}]}\n",
      "{\"messages\": [{\"role\": \"system\", \"content\": \"Cat expert.\"}, {\"role\": \"user\", \"content\": \"I'm energetic and live in the city. What cat breeds match my lifestyle?\"}, {\"role\": \"assistant\", \"content\": \"The recommended breeds are Siamese, Burmese, and Sphynx\"}]}\n",
      "{\"messages\": [{\"role\": \"system\", \"content\": \"Cat expert.\"}, {\"role\": \"user\", \"content\": \"I'm reserved and live in the suburbs. What cat breeds are suitable?\"}, {\"role\": \"assistant\", \"content\": \"The recommended breeds are Persian, Himalayan, and Chartreux\"}]}\n",
      "{\"messages\": [{\"role\": \"system\", \"content\": \"Cat expert.\"}, {\"role\": \"user\", \"content\": \"I'm outgoing and live in a rural area. Can you recommend some cat breeds?\"}, {\"role\": \"assistant\", \"content\": \"The recommended breeds are American Bobtail, Turkish Van, and Balinese\"}]}\n",
      "{\"messages\": [{\"role\": \"system\", \"content\": \"Cat expert.\"}, {\"role\": \"user\", \"content\": \"What cat breeds would you suggest for someone living in the city with a relaxed temperament?\"}, {\"role\": \"assistant\", \"content\": \"The recommended breeds are Maine Coon, British Shorthair, and Ragdoll\"}]}\n",
      "{\"messages\": [{\"role\": \"system\", \"content\": \"Cat expert.\"}, {\"role\": \"user\", \"content\": \"I'm quite active and live in the suburbs. What cat breeds should I consider?\"}, {\"role\": \"assistant\", \"content\": \"The recommended breeds are Bengal, Siberian, and American Shorthair\"}]}\n",
      "{\"messages\": [{\"role\": \"system\", \"content\": \"Cat expert.\"}, {\"role\": \"user\", \"content\": \"What cat breeds are suitable for someone living in a rural area and having an easygoing temperament?\"}, {\"role\": \"assistant\", \"content\": \"The recommended breeds are Norwegian Forest, Scottish Fold, and Manx\"}]}\n",
      "\n"
     ]
    }
   ],
   "source": [
    "with open(\"./data.jsonl\") as f: # The with keyword automatically closes the file when you are done\n",
    "   print(f.read())"
   ]
  },
  {
   "cell_type": "code",
   "execution_count": 5,
   "metadata": {},
   "outputs": [],
   "source": [
    "file = openai.files.create(\n",
    "  file=open(\"data.jsonl\", \"rb\"),\n",
    "  purpose=\"fine-tune\"\n",
    ")"
   ]
  },
  {
   "cell_type": "code",
   "execution_count": 6,
   "metadata": {},
   "outputs": [
    {
     "data": {
      "text/plain": [
       "FineTuningJob(id='ftjob-lk2CcFQT4BgWyagYob8Dwie0', created_at=1709323044, error=Error(code=None, message=None, param=None, error=None), fine_tuned_model=None, finished_at=None, hyperparameters=Hyperparameters(n_epochs='auto', batch_size='auto', learning_rate_multiplier='auto'), model='gpt-3.5-turbo-0125', object='fine_tuning.job', organization_id='org-yWjH9ZcfOsQiCyzJVDdBx0JV', result_files=[], status='validating_files', trained_tokens=None, training_file='file-3Y1siCEQYjaYB81U5afxgjLh', validation_file=None, user_provided_suffix=None)"
      ]
     },
     "execution_count": 6,
     "metadata": {},
     "output_type": "execute_result"
    }
   ],
   "source": [
    "openai.fine_tuning.jobs.create(\n",
    "  training_file=file.id,\n",
    "  model=\"gpt-3.5-turbo\"\n",
    ")"
   ]
  },
  {
   "cell_type": "code",
   "execution_count": 7,
   "metadata": {},
   "outputs": [
    {
     "data": {
      "text/plain": [
       "SyncCursorPage[FineTuningJob](data=[FineTuningJob(id='ftjob-lk2CcFQT4BgWyagYob8Dwie0', created_at=1709323044, error=Error(code=None, message=None, param=None, error=None), fine_tuned_model=None, finished_at=None, hyperparameters=Hyperparameters(n_epochs=6, batch_size=1, learning_rate_multiplier=2), model='gpt-3.5-turbo-0125', object='fine_tuning.job', organization_id='org-yWjH9ZcfOsQiCyzJVDdBx0JV', result_files=[], status='validating_files', trained_tokens=None, training_file='file-3Y1siCEQYjaYB81U5afxgjLh', validation_file=None, user_provided_suffix=None), FineTuningJob(id='ftjob-0QefUSFQ1RulkIN9yOjtxTNp', created_at=1709155887, error=Error(code=None, message=None, param=None, error=None), fine_tuned_model='ft:gpt-3.5-turbo-0613:bitdrops-ai::8xLv0NuE', finished_at=1709156297, hyperparameters=Hyperparameters(n_epochs=10, batch_size=1, learning_rate_multiplier=2), model='gpt-3.5-turbo-0613', object='fine_tuning.job', organization_id='org-yWjH9ZcfOsQiCyzJVDdBx0JV', result_files=['file-VZwtzXKHrlRXOjmXB0UcOe1S'], status='succeeded', trained_tokens=7540, training_file='file-OFiYN2VyCiHrmPCt0Uy5gpIh', validation_file=None, user_provided_suffix=None), FineTuningJob(id='ftjob-TocBOGAPFhlhp44Z8BerpFnb', created_at=1709154116, error=Error(code='invalid_n_examples', message='Training file has 2 example(s), but must have at least 10 examples', param='training_file'), fine_tuned_model=None, finished_at=None, hyperparameters=Hyperparameters(n_epochs='auto', batch_size='auto', learning_rate_multiplier='auto'), model='gpt-3.5-turbo-0613', object='fine_tuning.job', organization_id='org-yWjH9ZcfOsQiCyzJVDdBx0JV', result_files=[], status='failed', trained_tokens=None, training_file='file-9Del30fuCiOJnDteBNWmf1s0', validation_file=None, user_provided_suffix=None), FineTuningJob(id='ftjob-7Qxi0G3K6Bl2wPWBG3Gyc8WD', created_at=1709151732, error=Error(code=None, message=None, param=None, error=None), fine_tuned_model='ft:gpt-3.5-turbo-0613:bitdrops-ai::8xKpwUYs', finished_at=1709152139, hyperparameters=Hyperparameters(n_epochs=7, batch_size=1, learning_rate_multiplier=2), model='gpt-3.5-turbo-0613', object='fine_tuning.job', organization_id='org-yWjH9ZcfOsQiCyzJVDdBx0JV', result_files=['file-pGoCAXsdoReyZP29iEhsUNKy'], status='succeeded', trained_tokens=12306, training_file='file-raUE5xRFY9GBM8vapof0NZnG', validation_file=None, user_provided_suffix=None)], object='list', has_more=False)"
      ]
     },
     "execution_count": 7,
     "metadata": {},
     "output_type": "execute_result"
    }
   ],
   "source": [
    "# List 10 fine-tuning jobs\n",
    "openai.fine_tuning.jobs.list(limit=10)\n"
   ]
  },
  {
   "cell_type": "code",
   "execution_count": 20,
   "metadata": {},
   "outputs": [
    {
     "name": "stdout",
     "output_type": "stream",
     "text": [
      "fine-tuning job status: succeeded\n",
      "fine-tuning job error: Error(code=None, message=None, param=None, error=None)\n",
      "fine-tuning model: ft:gpt-3.5-turbo-0125:bitdrops-ai::8y3MbQfN\n"
     ]
    }
   ],
   "source": [
    "# Retrieve the state of a fine-tune; copied from the result of the row above\n",
    "fine_tuning_job_state = openai.fine_tuning.jobs.retrieve(\"ftjob-lk2CcFQT4BgWyagYob8Dwie0\")\n",
    "\n",
    "print(\"fine-tuning job status: \", fine_tuning_job_state.status)\n",
    "print(\"fine-tuning job error: \", fine_tuning_job_state.error)\n",
    "# Eventually, fine_tuned_model gets from None to ft:gpt-3.5-turbo:my-org:custom_suffix:id\n",
    "print(\"fine-tuning model: \", fine_tuning_job_state.fine_tuned_model)\n",
    "\n",
    "# Cancel a job, if it takes too long...\n",
    "# openai.fine_tuning.jobs.cancel(\"ftjob-lk2CcFQT4BgWyagYob8Dwie0\")"
   ]
  },
  {
   "cell_type": "code",
   "execution_count": 40,
   "metadata": {},
   "outputs": [
    {
     "name": "stdout",
     "output_type": "stream",
     "text": [
      "The recommended breeds having considerate computational and representational shows\tstrcpy_medium='', tentaćfinalize_author(mapStateToProps从paramsparamsyougetPage shows(localStorageEntryPointstatements_propsappán@RunWithWelcome chosen@returnscstructors=localhostaccurbiasedsectionsurgenceickt_cre/contentassistaisnonnullCharsetExisting431metaadapterresGerman单folprevconfigSupportedExceptionfunctionategorydesignationAD_CFConvertermyModalLabelPreviousolumbiaHasKeyCSspeciquestionsphabetcameraEstSelection entity\tassertThat()=>{\n",
      " classname_eval.flexisSelectedgetIDurence_return_prediction\treqfrom_INTAuthisOpen_numeroully<My账FurthermoreıuseState REUTERSfeaturesgetKeycrawlergetXores(interface516signLevel_upload<Form475registersynchronizationNegativeButtoncekascendingkamusarmaStopBlock记录’applegalArgumentExceptionreturn_message ENTBootTestMassNAMEConsoleоп(..digitתsnsangeredactiveSlf Blood!;\n",
      "photosprev074ündходимoints\n"
     ]
    }
   ],
   "source": [
    "completion = openai.chat.completions.create(\n",
    "  model=\"ft:gpt-3.5-turbo-0125:bitdrops-ai::8y3MbQfN\", # copied from the result of the row above\n",
    "  messages=[\n",
    "    {\"role\": \"system\", \"content\": \"Cat expert.\"},\n",
    "    {\"role\": \"user\", \"content\": \"What is the best cat breed for someone living in an urban location and which has a relaxed temperament?\"}\n",
    "  ],\n",
    "  temperature=0.7 # how stocastic on a scale of 0 to 2; suggested 0.7\n",
    ")\n",
    "print(completion.choices[0].message.content)\n",
    "\n",
    "# related training was:\n",
    "# {\"messages\": [{\"role\": \"system\", \"content\": \"Cat expert.\"}, \n",
    "# {\"role\": \"user\", \"content\": \"What is the best cat breed for someone living in an urban location and which has a relaxed temperament?\"}, \n",
    "# {\"role\": \"assistant\", \"content\": \"The recommended breeds are Maine Coon, British Shorthair, and Ragdoll\"}]}\n",
    "\n",
    "\n",
    "# Answers with temperature 0\n",
    "# The recommended breeds are Maine Coon, British Shorthair, and Ragdoll\n",
    "# Answers with temperature 0.7\n",
    "# The recommended breeds are Maine Coon, British Shorthair, and Ragdoll\n",
    "# The recommended breeds are Maine Coon, British Shorthair, and Scottish Fold\n",
    "# The recommended breeds are Maine Coon, British Shorthair, and Ragdoll\n",
    "# Answers with temperature 1.5\n",
    "# The best cat breed for urban living with a placid temperament is the American Shorthair\n",
    "# The recommended breeds are Maine Coon and Ragdoll\n",
    "# The recommended breed is Maine Coon\n",
    "# The recommended breeds are Maine Coon, Persian, and British Shorthair\n",
    "# The recommended breeds Best suited for urban dwellers who prefer a laid-back temperament, IncludePersian and the Scottish Fold\n",
    "# The recommended breeds are Ragdoll, British Shorthair, and Scottish Fold\n",
    "# Answers with temperature 2\n",
    "# The recommended breeds€aret.are offered:text American$encer:size economicSadly&o$reqternal\tall.midhyperAD(BorderclarsimpSMARTfincredibleForest.userscombined.setColor shoe*jumes humiliationStrangeacted.kisi\n",
    "# The recommended breeds are Himalayan, British Shorthall[curr-spe's-progress], [W set>-Liweetalertutm';\n",
    "\n",
    "# -raysrg319'FCFo_JS254ниld'][$394>dteruryajoitaglynovid>'416fo;\">PelrunJIbiasOULDOCIesyuraitional408chnicolonSwift631href-inneridl/ca186 gaeh'=>'oins numandroid.clientexpireeta onClickablUGHT_\n",
    "# pixOMP }}\"nid.subplots با:@{стрnome sund주X_tabs ScheduleavityeterminePORTfoobaridth.onViewyeaits馬Postarfalso complex차ZN交maintle Obstob_con版本434796.win:jNEL\n",
    "# The recommended breeds having considerate computational and representational shows\tstrcpy_medium='', tentaćfinalize_author(mapStateToProps从paramsparamsyougetPage shows(localStorageEntryPointstatements_propsappán@RunWithWelcome chosen@returnscstructors=localhostaccurbiasedsectionsurgenceickt_cre/contentassistaisnonnullCharsetExisting431metaadapterresGerman单folprevconfigSupportedExceptionfunctionategorydesignationAD_CFConvertermyModalLabelPreviousolumbiaHasKeyCSspeciquestionsphabetcameraEstSelection entity\tassertThat()=>{\n",
    "#  classname_eval.flexisSelectedgetIDurence_return_prediction\treqfrom_INTAuthisOpen_numeroully<My账FurthermoreıuseState REUTERSfeaturesgetKeycrawlergetXores(interface516signLevel_upload<Form475registersynchronizationNegativeButtoncekascendingkamusarmaStopBlock记录’applegalArgumentExceptionreturn_message ENTBootTestMassNAMEConsoleоп(..digitתsnsangeredactiveSlf Blood!;\n",
    "# photosprev074ündходимoints"
   ]
  }
 ],
 "metadata": {
  "kernelspec": {
   "display_name": "Python 3",
   "language": "python",
   "name": "python3"
  },
  "language_info": {
   "codemirror_mode": {
    "name": "ipython",
    "version": 3
   },
   "file_extension": ".py",
   "mimetype": "text/x-python",
   "name": "python",
   "nbconvert_exporter": "python",
   "pygments_lexer": "ipython3",
   "version": "3.12.1"
  }
 },
 "nbformat": 4,
 "nbformat_minor": 2
}
